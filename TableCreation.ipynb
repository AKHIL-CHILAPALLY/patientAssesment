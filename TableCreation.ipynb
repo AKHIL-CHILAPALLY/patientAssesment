{
 "cells": [
  {
   "cell_type": "code",
   "execution_count": 19,
   "id": "7a4e8a58-f9f5-4295-b92c-9dfff23657f7",
   "metadata": {},
   "outputs": [],
   "source": [
    "import pymysql  #pymysql\n",
    "import nbimporter   #toimport one not book vairable into other\n",
    "import Schemas  # Import functions and variables from notebook1.ipynb"
   ]
  },
  {
   "cell_type": "code",
   "execution_count": 20,
   "id": "255e77c0-8336-4d1f-adc8-710d92516fd2",
   "metadata": {},
   "outputs": [],
   "source": [
    "# to run \"schemas\" notebook to import all the variables\n",
    "%run Schemas.ipynb\n"
   ]
  },
  {
   "cell_type": "code",
   "execution_count": 17,
   "id": "1fa62438-ff99-4cc7-b2d9-8c72e70ec7dc",
   "metadata": {},
   "outputs": [
    {
     "name": "stdout",
     "output_type": "stream",
     "text": [
      "Connected successfully!\n"
     ]
    }
   ],
   "source": [
    "import pymysql\n",
    "\n",
    "# Define connection parameters\n",
    "host = \"localhost\"  # Or \"127.0.0.1\"\n",
    "port = 3306  # Specify the MySQL port\n",
    "user = \"root\"\n",
    "password = \"AKCH@9866\"\n",
    "database = \"patientAssesmentDetails\"\n",
    "\n",
    "# Establish connection\n",
    "connection = pymysql.connect(\n",
    "    host=host,\n",
    "    port=port,  # Add port here\n",
    "    user=user,\n",
    "    password=password,\n",
    "    database=database\n",
    ")\n",
    "\n",
    "# Check connection\n",
    "print(\"Connected successfully!\")"
   ]
  },
  {
   "cell_type": "code",
   "execution_count": 18,
   "id": "7a178691-ae04-4134-b80f-91ad9f97d151",
   "metadata": {
    "scrolled": true
   },
   "outputs": [
    {
     "name": "stdout",
     "output_type": "stream",
     "text": [
      "Table 'patients_details' created successfully!\n"
     ]
    }
   ],
   "source": [
    "## Creates patient table if not exist\n",
    "cursor = connection.cursor()\n",
    "cursor.execute(patient_details)\n",
    "print(\"Table 'patients_details' created successfully!\")\n",
    "connection.commit()\n"
   ]
  },
  {
   "cell_type": "code",
   "execution_count": null,
   "id": "2283baca-d9ff-4e46-940c-157129be0c8b",
   "metadata": {},
   "outputs": [],
   "source": [
    "cursor.execute('Show  Tables')\n",
    "tables = cursor.fetchall()\n",
    "print(\"Tables:\", tables)"
   ]
  },
  {
   "cell_type": "code",
   "execution_count": null,
   "id": "881a470a-64c7-49e0-9d3e-4e0a7b233e8e",
   "metadata": {},
   "outputs": [],
   "source": [
    "## Creates patient table if not exist\n",
    "cursor = connection.cursor()\n",
    "cursor.execute(treatment_details)\n",
    "print(\"Table 'treatment' created successfully!\")\n",
    "connection.commit()\n"
   ]
  },
  {
   "cell_type": "code",
   "execution_count": null,
   "id": "dcca6237-b2e3-44b8-a2a8-adc8a83a03a2",
   "metadata": {},
   "outputs": [],
   "source": [
    "cursor.execute('Show  Tables')\n",
    "tables = cursor.fetchall()\n",
    "print(\"Tables:\", tables)"
   ]
  },
  {
   "cell_type": "code",
   "execution_count": null,
   "id": "b6c3d473-381c-4b56-b284-8ac0a88f90b2",
   "metadata": {},
   "outputs": [],
   "source": [
    "## Creates patient table if not exist\n",
    "cursor = connection.cursor()\n",
    "cursor.execute(difficulty_ratings)\n",
    "print(\"Table 'difficulty' created successfully!\")\n",
    "connection.commit()\n",
    "\n",
    "cursor.execute('Show  Tables')\n",
    "tables = cursor.fetchall()\n",
    "print(\"Tables:\", tables)"
   ]
  },
  {
   "cell_type": "code",
   "execution_count": null,
   "id": "b0236ecc-0bf8-4d6f-b021-5e4339272ce3",
   "metadata": {},
   "outputs": [],
   "source": [
    "## Creates patient table if not exist\n",
    "cursor = connection.cursor()\n",
    "cursor.execute(patient_changes)\n",
    "print(\"Table 'patient_changes' created successfully!\")\n",
    "connection.commit()\n",
    "\n",
    "cursor.execute('Show  Tables')\n",
    "tables = cursor.fetchall()\n",
    "print(\"Tables:\", tables)"
   ]
  },
  {
   "cell_type": "code",
   "execution_count": null,
   "id": "1287fb19-35be-42e1-b8d8-1cf4e5f458ea",
   "metadata": {},
   "outputs": [],
   "source": [
    "## Creates patient table if not exist\n",
    "cursor = connection.cursor()\n",
    "cursor.execute(pain_symptoms)\n",
    "print(\"Table 'pain_symptoms' created successfully!\")\n",
    "connection.commit()\n",
    "\n",
    "cursor.execute('Show  Tables')\n",
    "tables = cursor.fetchall()\n",
    "print(\"Tables:\", tables)"
   ]
  },
  {
   "cell_type": "code",
   "execution_count": null,
   "id": "21bf48f6-17f5-4a3a-9a3d-1c7e99f6e7e7",
   "metadata": {},
   "outputs": [],
   "source": [
    "\n",
    "## Creates patient table if not exist\n",
    "cursor = connection.cursor()\n",
    "cursor.execute(medical_assistant_data)\n",
    "print(\"Table 'medical_assistant_data' created successfully!\")\n",
    "connection.commit()\n",
    "\n",
    "cursor.execute('Show  Tables')\n",
    "tables = cursor.fetchall()\n",
    "print(\"Tables:\", tables)"
   ]
  },
  {
   "cell_type": "code",
   "execution_count": null,
   "id": "355ee8d7-7582-44c0-ac7c-27465c1baa55",
   "metadata": {},
   "outputs": [],
   "source": []
  },
  {
   "cell_type": "code",
   "execution_count": null,
   "id": "05d11057-5ed6-44f5-b9e5-828770c5450c",
   "metadata": {},
   "outputs": [],
   "source": []
  },
  {
   "cell_type": "code",
   "execution_count": null,
   "id": "3bbaa8b3-369f-46dd-bc80-2082cf516ccd",
   "metadata": {},
   "outputs": [],
   "source": []
  }
 ],
 "metadata": {
  "kernelspec": {
   "display_name": "Python 3 (ipykernel)",
   "language": "python",
   "name": "python3"
  },
  "language_info": {
   "codemirror_mode": {
    "name": "ipython",
    "version": 3
   },
   "file_extension": ".py",
   "mimetype": "text/x-python",
   "name": "python",
   "nbconvert_exporter": "python",
   "pygments_lexer": "ipython3",
   "version": "3.9.6"
  }
 },
 "nbformat": 4,
 "nbformat_minor": 5
}
