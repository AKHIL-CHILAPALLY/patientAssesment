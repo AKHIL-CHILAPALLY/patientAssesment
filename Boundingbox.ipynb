{
 "cells": [
  {
   "cell_type": "code",
   "execution_count": null,
   "id": "a7aaf0f7-2509-469a-bc77-00dd91efff8a",
   "metadata": {},
   "outputs": [
    {
     "name": "stderr",
     "output_type": "stream",
     "text": [
      "2025-02-13 07:11:47.185 Python[33622:4433487] WARNING: Secure coding is automatically enabled for restorable state! However, not on all supported macOS versions of this application. Opt-in to secure coding explicitly by implementing NSApplicationDelegate.applicationSupportsSecureRestorableState:.\n"
     ]
    },
    {
     "name": "stdout",
     "output_type": "stream",
     "text": [
      "Bounding Box Coordinates: 126, 33, 221, 65\n",
      "Bounding Box Coordinates: 640, 181, 276, 70\n"
     ]
    }
   ],
   "source": [
    "import cv2\n",
    "\n",
    "# Load Image\n",
    "image_path = \"/Users/akhilch/Desktop/example.png\"\n",
    "image = cv2.imread(image_path)\n",
    "\n",
    "# List to store coordinates\n",
    "coords = []\n",
    "drawing = False\n",
    "\n",
    "# Mouse callback function\n",
    "def draw_rectangle(event, x, y, flags, param):\n",
    "    global coords, drawing\n",
    "\n",
    "    if event == cv2.EVENT_LBUTTONDOWN:\n",
    "        coords = [(x, y)]\n",
    "        drawing = True\n",
    "\n",
    "    elif event == cv2.EVENT_LBUTTONUP:\n",
    "        coords.append((x, y))\n",
    "        drawing = False\n",
    "        cv2.rectangle(image, coords[0], coords[1], (0, 255, 0), 2)\n",
    "        cv2.imshow(\"Image\", image)\n",
    "        print(f\"Bounding Box Coordinates: {coords[0][0]}, {coords[0][1]}, {coords[1][0] - coords[0][0]}, {coords[1][1] - coords[0][1]}\")\n",
    "\n",
    "# Show Image and Capture Clicks\n",
    "cv2.imshow(\"Image\", image)\n",
    "cv2.setMouseCallback(\"Image\", draw_rectangle)\n",
    "cv2.waitKey(0)\n",
    "cv2.destroyAllWindows()\n"
   ]
  },
  {
   "cell_type": "code",
   "execution_count": null,
   "id": "51ce56af-b9ea-4fe6-87f5-3c3f132c1cfa",
   "metadata": {},
   "outputs": [],
   "source": []
  }
 ],
 "metadata": {
  "kernelspec": {
   "display_name": "Python 3 (ipykernel)",
   "language": "python",
   "name": "python3"
  },
  "language_info": {
   "codemirror_mode": {
    "name": "ipython",
    "version": 3
   },
   "file_extension": ".py",
   "mimetype": "text/x-python",
   "name": "python",
   "nbconvert_exporter": "python",
   "pygments_lexer": "ipython3",
   "version": "3.9.6"
  }
 },
 "nbformat": 4,
 "nbformat_minor": 5
}
