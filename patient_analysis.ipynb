{
 "cells": [
  {
   "cell_type": "code",
   "execution_count": 138,
   "id": "8a146dda-35b9-4248-99a4-9fb0a900defa",
   "metadata": {},
   "outputs": [],
   "source": [
    "import pymysql  \n",
    "import nbimporter   \n",
    "import TableCreation "
   ]
  },
  {
   "cell_type": "code",
   "execution_count": 139,
   "id": "33ed92b4-49be-475b-8598-65152b7965bd",
   "metadata": {},
   "outputs": [
    {
     "name": "stdout",
     "output_type": "stream",
     "text": [
      "Connected successfully!\n",
      "Table 'patients_details' created successfully!\n",
      "Tables: (('difficulty_ratings',), ('medical_assistant_data',), ('patient_changes',), ('patient_details',), ('patients',), ('treatment_details',), ('treatments',))\n",
      "Table 'treatment' created successfully!\n",
      "Tables: (('difficulty_ratings',), ('medical_assistant_data',), ('patient_changes',), ('patient_details',), ('patients',), ('treatment_details',), ('treatments',))\n",
      "Table 'difficulty' created successfully!\n",
      "Tables: (('difficulty_ratings',), ('medical_assistant_data',), ('patient_changes',), ('patient_details',), ('patients',), ('treatment_details',), ('treatments',))\n",
      "Table 'patient_changes' created successfully!\n",
      "Tables: (('difficulty_ratings',), ('medical_assistant_data',), ('patient_changes',), ('patient_details',), ('patients',), ('treatment_details',), ('treatments',))\n",
      "Table 'pain_symptoms' created successfully!\n",
      "Tables: (('difficulty_ratings',), ('medical_assistant_data',), ('pain_symptoms',), ('patient_changes',), ('patient_details',), ('patients',), ('treatment_details',), ('treatments',))\n",
      "Table 'medical_assistant_data' created successfully!\n",
      "Tables: (('difficulty_ratings',), ('medical_assistant_data',), ('pain_symptoms',), ('patient_changes',), ('patient_details',), ('patients',), ('treatment_details',), ('treatments',))\n"
     ]
    }
   ],
   "source": [
    "%run TableCreation.ipynb"
   ]
  },
  {
   "cell_type": "code",
   "execution_count": 140,
   "id": "442476d4-14f9-43b2-abed-85cf304108b0",
   "metadata": {
    "scrolled": true
   },
   "outputs": [
    {
     "name": "stdout",
     "output_type": "stream",
     "text": [
      "{'patient_name': 'AKhIL', 'dob': 'lo', 'date': 'Ie/o3/2025', 'injection': 'NO', 'exercise_therapy': 'YES', 'Bending_or_stooping': '16', 'Putting_on_shoes': '3', 'Sleeping': '?', 'Standing_for_an_hour': '?', 'Going_up_or_down_a_flight_of_stairs': '2)', 'Walking_through_a_store': '12', 'Driving_for_an_hour': '', 'Preparing_a_meal': '5', 'Yard_work': '8', 'Picking_up_itens_off_the_floor': '', 'since_last_treatment': '', 'since_start_of_treatment': '', 'last_3_days': '', 'pain': '', 'numbness': '', 'tingling': '', 'burning': '', 'tightness': '', 'Blood_Pressure': '', 'HR': '', 'Weight': '', 'Height': '', 'Program_Number': '', 'Treatment_Number': '', 'Placement': '', 'SpO2': '', 'Temperature': '', 'Blood_Glucose': '', 'Respirations': ''}\n"
     ]
    }
   ],
   "source": [
    "import cv2\n",
    "import numpy as np\n",
    "import easyocr\n",
    "import json\n",
    "\n",
    "# Load the image\n",
    "image_path = \"/Users/akhilch/Desktop/example.png\"  # Your image path\n",
    "image = cv2.imread(image_path)\n",
    "gray = cv2.cvtColor(image, cv2.COLOR_BGR2GRAY)\n",
    "\n",
    "# Define bounding boxes (field_name: (x, y, width, height))\n",
    "bounding_boxes = {\n",
    "    \"patient_name\": (217, 191, 347, 58),\n",
    "    \"dob\": (642, 185, 282, 72),\n",
    "    \"date\": (128, 31, 225, 70),  \n",
    "    \"injection\": (191, 111, 93, 35),\n",
    "    \"exercise_therapy\": (849, 111, 91, 35),\n",
    "    \n",
    "    \"Bending_or_stooping\": (268, 297, 126, 52),\n",
    "    \"Putting_on_shoes\":(232, 350, 118, 46),\n",
    "    \"Sleeping\":(150, 402, 127, 47),\n",
    "    \"Standing_for_an_hour\":(267, 451, 118, 55),\n",
    "    \"Going_up_or_down_a_flight_of_stairs\":(403, 503, 115, 53),\n",
    "    \"Walking_through_a_store\":(306, 557, 108, 39),\n",
    "    \"Driving_for_an_hour\":(253, 609, 109, 36),\n",
    "    \"Preparing_a_meal\":(231, 658, 125, 43),\n",
    "    \"Yard_work\":(166, 707, 124, 43),\n",
    "    \"Picking_up_itens_off_the_floor\": (351, 751, 122, 48),\n",
    "    \n",
    "\n",
    "\n",
    "    \"since_last_treatment\":(67, 846, 460, 69),\n",
    "    \"since_start_of_treatment\":(68, 942, 463, 71),\n",
    "    \"last_3_days\":(72, 1050, 472, 64),\n",
    "    \"pain\":(116, 1150, 69, 49),\n",
    "    \"numbness\":(299, 1147, 84, 47),\n",
    "    \"tingling\":(465, 1150, 91, 42),\n",
    "    \"burning\":(644, 1149, 81, 47),\n",
    "    \"tightness\":(827, 1144, 63, 50),\n",
    "    \"Blood_Pressure\":(215, 1245, 110, 46),\n",
    "    \"HR\":(368, 1245, 91, 51),\n",
    "    \"Weight\":(548, 1250, 100, 38),\n",
    "    \"Height\":(735, 1243, 98, 44),\n",
    "    \"Program_Number\":(247, 1299, 65, 37),\n",
    "    \"Treatment_Number\":(513, 1299, 79, 35),\n",
    "    \"Placement\":(703, 1296, 233, 42),\n",
    "    \"SpO2\":(130, 1343, 78, 45),\n",
    "    \"Temperature\":(347, 1340, 74, 48),\n",
    "    \"Blood_Glucose\":(580, 1341, 76, 48),\n",
    "    \"Respirations\":(786, 1346, 75, 48)\n",
    "    \n",
    "    \n",
    "\n",
    "    \n",
    "}\n",
    "\n",
    "# Initialize OCR reader\n",
    "reader = easyocr.Reader(['en'])\n",
    "\n",
    "# Dictionary to store results\n",
    "output_data = {\n",
    "    \"patient_name\": \"\",\n",
    "    \"dob\": \"\",\n",
    "    \"date\": \"\",\n",
    "\n",
    "    \n",
    "    \"injection\": \"\",\n",
    "    \"exercise_therapy\": \"\",\n",
    "    \"Bending_or_stooping\": \"\",\n",
    "    \"Putting_on_shoes\": \"\",\n",
    "    \"Sleeping\":\"\",\n",
    "    \"Standing_for_an_hour\":\"\",\n",
    "    \"Going_up_or_down_a_flight_of_stairs\":\"\",\n",
    "    \"Walking_through_a_store\":\"\",\n",
    "    \"Driving_for_an_hour\":\"\",\n",
    "    \"Preparing_a_meal\":\"\",\n",
    "    \"Yard_work\":\"\",\n",
    "    \"Picking_up_itens_off_the_floor\": \"\",\n",
    "    \n",
    "\n",
    "\n",
    "\n",
    "\n",
    "    \n",
    "    \"since_last_treatment\": \"\",\n",
    "    \"since_start_of_treatment\": \"\",\n",
    "    \n",
    "    \"last_3_days\":\"\",\n",
    "    \"pain\":\"\",\n",
    "    \"numbness\":\"\",\n",
    "    \"tingling\":\"\",\n",
    "    \"burning\":\"\",\n",
    "    \"tightness\":\"\",\n",
    "    \"Blood_Pressure\":\"\",\n",
    "    \"HR\":\"\",\n",
    "    \"Weight\":\"\",\n",
    "    \"Height\":\"\",\n",
    "    \"Program_Number\":\"\",\n",
    "    \"Treatment_Number\":\"\",\n",
    "    \"Placement\":\"\",\n",
    "    \"SpO2\":\"\",\n",
    "    \"Temperature\":\"\",\n",
    "    \"Blood_Glucose\":\"\",\n",
    "    \"Respirations\":\"\"\n",
    "    \n",
    "}\n",
    "\n",
    "# Extract text for simple fields\n",
    "for field in [\"patient_name\", \"dob\", \"date\", \"since_last_treatment\", \n",
    "             \"since_start_of_treatment\", \"last_3_days\",\n",
    "              \n",
    "             \"pain\",\"numbness\",\"tingling\",\"burning\",\"tightness\",\"Blood_Pressure\",\"HR\",\"Weight\",\"Height\",\n",
    "             \"Program_Number\",\"Treatment_Number\",\"Placement\",\"SpO2\",\"Temperature\",\"Blood_Glucose\",\"Respirations\"]:\n",
    "    x, y, w, h = bounding_boxes[field]\n",
    "    roi = gray[y:y+h, x:x+w]\n",
    "    \n",
    "    # Run OCR on the extracted region\n",
    "    result = reader.readtext(roi, detail=0)\n",
    "    output_data[field] = result[0] if result else \"\"\n",
    "\n",
    "# Extract circled numbers\n",
    "for field in [\"injection\", \"exercise_therapy\", \"Bending_or_stooping\", \"Putting_on_shoes\", \"Sleeping\", \"Standing_for_an_hour\",\n",
    "             \"Going_up_or_down_a_flight_of_stairs\", \"Walking_through_a_store\", \"Driving_for_an_hour\", \"Preparing_a_meal\", \"Yard_work\", \n",
    "             \"Picking_up_itens_off_the_floor\"]:\n",
    "    x, y, w, h = bounding_boxes[field]\n",
    "    roi = gray[y:y+h, x:x+w]\n",
    "\n",
    "    # Apply Gaussian Blur to reduce noise\n",
    "    blurred = cv2.GaussianBlur(roi, (9, 9), 2)\n",
    "\n",
    "    # Detect circles inside the bounding box\n",
    "    circles = cv2.HoughCircles(blurred, cv2.HOUGH_GRADIENT, dp=1.2, minDist=20,\n",
    "                               param1=50, param2=30, minRadius=10, maxRadius=40)\n",
    "\n",
    "    if circles is not None:\n",
    "        circles = np.uint16(np.around(circles))  # Round values\n",
    "        for (cx, cy, r) in circles[0, :]:\n",
    "            # Adjust circle coordinates relative to full image\n",
    "            absolute_x = x + cx\n",
    "            absolute_y = y + cy\n",
    "\n",
    "            # Extract the region of interest (ROI) around the detected circle\n",
    "            circled_roi = gray[y+cy-r:y+cy+r, x+cx-r:x+cx+r]\n",
    "\n",
    "            # Run OCR on the cropped circle area\n",
    "            result = reader.readtext(circled_roi, detail=0)\n",
    "            text = result[0] if result else \"?\"\n",
    "\n",
    "            # Store the detected number\n",
    "            output_data[field] = text\n",
    "\n",
    "# Convert extracted data to JSON format\n",
    "json_output = json.dumps(output_data, indent=4)\n",
    "\n",
    "# Save JSON output to a file\n",
    "with open(\"output.json\", \"w\") as json_file:\n",
    "    json_file.write(json_output)\n",
    "\n",
    "json_output = json.loads(json_output)\n",
    "# Print JSON output\n",
    "print(json_output)\n",
    "\n"
   ]
  },
  {
   "cell_type": "code",
   "execution_count": 44,
   "id": "9fda408b-db47-4587-ba28-9c763bf4fa26",
   "metadata": {},
   "outputs": [],
   "source": []
  },
  {
   "cell_type": "code",
   "execution_count": 141,
   "id": "1e108e51-ca94-4368-874e-d5ec563c96af",
   "metadata": {},
   "outputs": [
    {
     "name": "stdout",
     "output_type": "stream",
     "text": [
      "✅ Data inserted successfully!\n"
     ]
    }
   ],
   "source": [
    "# Assuming json_output is a dictionary containing patient_name and dob\n",
    "query = \"\"\"INSERT INTO patient_details (patient_name, dob) \n",
    "           VALUES (%s, %s)\"\"\"\n",
    "\n",
    "data = (json_output[\"patient_name\"], json_output[\"dob\"])\n",
    "\n",
    "try:\n",
    "    with connection.cursor() as cursor:\n",
    "        cursor.execute(query, data)  # Safe execution\n",
    "        patient_id = cursor.lastrowid\n",
    "    connection.commit()  # Save changes\n",
    "    print(\"✅ Data inserted successfully!\")\n",
    "except pymysql.MySQLError as e:\n",
    "    print(f\"❌ Error inserting data: {e}\")"
   ]
  },
  {
   "cell_type": "markdown",
   "id": "5f98baee-0458-4a3e-91a2-27e3addc9f69",
   "metadata": {},
   "source": []
  },
  {
   "cell_type": "code",
   "execution_count": 142,
   "id": "c936b429-dc76-42ef-924f-e14ee37b96dc",
   "metadata": {},
   "outputs": [
    {
     "name": "stdout",
     "output_type": "stream",
     "text": [
      "✅ Data inserted successfully!\n",
      "(14, 'Ie/o3/2025', 'NO', 'YES')\n"
     ]
    }
   ],
   "source": [
    "treatment_details = (patient_id,json_output[\"date\"],json_output[\"injection\"],json_output[\"exercise_therapy\"])\n",
    "treatment_query = \"\"\"INSERT INTO treatment_details (patient_id, date,injection,exercise_therapy) \n",
    "           VALUES (%s, %s, %s, %s)\"\"\"\n",
    "try:\n",
    "    with connection.cursor() as cursor:\n",
    "        cursor.execute(treatment_query, treatment_details)  # Safe execution\n",
    "    connection.commit()  # Save changes\n",
    "    print(\"✅ Data inserted successfully!\")\n",
    "except pymysql.MySQLError as e:\n",
    "    print(f\"❌ Error inserting data: {e}\")\n",
    "print(treatment_details)"
   ]
  },
  {
   "cell_type": "code",
   "execution_count": 143,
   "id": "b70c93c4-7b50-49be-a959-f9bf85c13ba9",
   "metadata": {},
   "outputs": [
    {
     "name": "stdout",
     "output_type": "stream",
     "text": [
      "(14, 'Ie/o3/2025', 'NO', 'YES')\n"
     ]
    }
   ],
   "source": [
    "print(treatment_details)"
   ]
  },
  {
   "cell_type": "code",
   "execution_count": 144,
   "id": "8bd5dc0b-387f-4be1-af5f-587df2c96008",
   "metadata": {},
   "outputs": [
    {
     "name": "stdout",
     "output_type": "stream",
     "text": [
      "✅ Data inserted successfully!\n",
      "(14, 'Ie/o3/2025', 'NO', 'YES')\n"
     ]
    }
   ],
   "source": [
    "\n",
    "\n",
    "difficulty_ratings = (patient_id ,json_output[\"date\"],json_output[\"Bending_or_stooping\"],json_output[\"Putting_on_shoes\"],json_output[\"Sleeping\"])\n",
    "\n",
    "\n",
    "difficulty_query = \"\"\"INSERT INTO difficulty_ratings (patient_id, date,bending_or_stooping,putting_on_shoes,sleeping) \n",
    "           VALUES (%s, %s, %s, %s, %s)\"\"\"\n",
    "try:\n",
    "    with connection.cursor() as cursor:\n",
    "        cursor.execute(difficulty_query,difficulty_ratings)  # Safe execution\n",
    "    connection.commit()  # Save changes\n",
    "    print(\"✅ Data inserted successfully!\")\n",
    "except pymysql.MySQLError as e:\n",
    "    print(f\"❌ Error inserting data: {e}\")\n",
    "print(treatment_details)"
   ]
  },
  {
   "cell_type": "code",
   "execution_count": 145,
   "id": "e721f4ef-ce7c-4991-9438-a7887c2d6d9e",
   "metadata": {},
   "outputs": [
    {
     "name": "stdout",
     "output_type": "stream",
     "text": [
      "(14, 'Ie/o3/2025', '16', '3', '?')\n"
     ]
    }
   ],
   "source": [
    "print(difficulty_ratings)"
   ]
  },
  {
   "cell_type": "code",
   "execution_count": null,
   "id": "c1c9a66b-8339-4338-85ac-f6ec468e5fb3",
   "metadata": {},
   "outputs": [],
   "source": [
    "\n"
   ]
  },
  {
   "cell_type": "code",
   "execution_count": 146,
   "id": "7825485a-69f5-44af-a7d2-cf57b94b55a8",
   "metadata": {},
   "outputs": [
    {
     "name": "stdout",
     "output_type": "stream",
     "text": [
      "✅ Data inserted successfully!\n",
      "(14, 'Ie/o3/2025', 'NO', 'YES')\n"
     ]
    }
   ],
   "source": [
    "\n",
    "\n",
    "patient_changes = (patient_id ,json_output[\"date\"],json_output[\"since_last_treatment\"],json_output[\"since_start_of_treatment\"],json_output[\"last_3_days\"])\n",
    "\n",
    "\n",
    "patient_query = \"\"\"INSERT INTO patient_changes(patient_id, date,since_last_treatment,since_start_of_treatment,last_3_days) \n",
    "           VALUES (%s, %s, %s, %s, %s)\"\"\"\n",
    "try:\n",
    "    with connection.cursor() as cursor:\n",
    "        cursor.execute(patient_query,patient_changes)  # Safe execution\n",
    "    connection.commit()  # Save changes\n",
    "    print(\"✅ Data inserted successfully!\")\n",
    "except pymysql.MySQLError as e:\n",
    "    print(f\"❌ Error inserting data: {e}\")\n",
    "print(treatment_details)"
   ]
  },
  {
   "cell_type": "code",
   "execution_count": null,
   "id": "8ced0d3a-c7ee-4a7d-be9c-b33135893415",
   "metadata": {},
   "outputs": [],
   "source": []
  },
  {
   "cell_type": "code",
   "execution_count": 147,
   "id": "8b18c2a6-fc50-490a-b04e-5a7c1c30731d",
   "metadata": {},
   "outputs": [
    {
     "name": "stdout",
     "output_type": "stream",
     "text": [
      "✅ Data inserted successfully!\n",
      "(14, 'Ie/o3/2025', 'NO', 'YES')\n"
     ]
    }
   ],
   "source": [
    "\n",
    "\n",
    "pain_symptoms= (patient_id ,json_output[\"date\"],json_output[\"pain\"],json_output[\"numbness\"],json_output[\"tingling\"],json_output[\"burning\"],json_output[\"tightness\"])\n",
    "\n",
    "\n",
    "pain_query = \"\"\"INSERT INTO pain_symptoms(patient_id, date,pain,numbness,tingling,burning,tightness) \n",
    "           VALUES (%s, %s, %s, %s, %s, %s, %s)\"\"\"\n",
    "try:\n",
    "    with connection.cursor() as cursor:\n",
    "        cursor.execute(pain_query,pain_symptoms)  # Safe execution\n",
    "    connection.commit()  # Save changes\n",
    "    print(\"✅ Data inserted successfully!\")\n",
    "except pymysql.MySQLError as e:\n",
    "    print(f\"❌ Error inserting data: {e}\")\n",
    "print(treatment_details)"
   ]
  },
  {
   "cell_type": "code",
   "execution_count": null,
   "id": "771e2107-dc36-44eb-aa89-c823d0d2f09b",
   "metadata": {},
   "outputs": [],
   "source": []
  },
  {
   "cell_type": "code",
   "execution_count": null,
   "id": "ca6bab56-8940-407e-8d0e-dbd9a507a5d7",
   "metadata": {},
   "outputs": [],
   "source": [
    "\n",
    "\n",
    "medical_assistant_data= (patient_id ,json_output[\"date\"],json_output[\"blood_pressure\"],json_output[\"hr\"],json_output[\"weight\"],json_output[\"height\"],json_output[\"spo2\"],json_output[\"temperature\"],json_output[\"blood_glucose\"],json_output[\"respirations\"])\n",
    "\n",
    "\n",
    "pain_query = \"\"\"INSERT INTO medical_assistant_data(patient_id, date,pain,numbness,tingling,burning,tightness) \n",
    "           VALUES (%s, %s, %s, %s, %s, %s, %s, %s)\"\"\"\n",
    "try:\n",
    "    with connection.cursor() as cursor:\n",
    "        cursor.execute(pain_query,pain_symptoms)  # Safe execution\n",
    "    connection.commit()  # Save changes\n",
    "    print(\"✅ Data inserted successfully!\")\n",
    "except pymysql.MySQLError as e:\n",
    "    print(f\"❌ Error inserting data: {e}\")\n",
    "print(treatment_details)"
   ]
  },
  {
   "cell_type": "code",
   "execution_count": null,
   "id": "797acd8c-e649-4480-8429-fcbc422334f2",
   "metadata": {},
   "outputs": [],
   "source": []
  },
  {
   "cell_type": "code",
   "execution_count": null,
   "id": "162b53aa-fcf4-4f53-bd46-6a3c759ecae8",
   "metadata": {},
   "outputs": [],
   "source": []
  }
 ],
 "metadata": {
  "kernelspec": {
   "display_name": "Python 3 (ipykernel)",
   "language": "python",
   "name": "python3"
  },
  "language_info": {
   "codemirror_mode": {
    "name": "ipython",
    "version": 3
   },
   "file_extension": ".py",
   "mimetype": "text/x-python",
   "name": "python",
   "nbconvert_exporter": "python",
   "pygments_lexer": "ipython3",
   "version": "3.9.6"
  }
 },
 "nbformat": 4,
 "nbformat_minor": 5
}
