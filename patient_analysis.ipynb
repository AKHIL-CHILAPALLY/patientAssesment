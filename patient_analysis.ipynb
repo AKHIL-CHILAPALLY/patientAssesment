{
 "cells": [
  {
   "cell_type": "code",
   "execution_count": 22,
   "id": "8a146dda-35b9-4248-99a4-9fb0a900defa",
   "metadata": {},
   "outputs": [],
   "source": [
    "import pymysql  \n",
    "import nbimporter   \n",
    "import TableCreation "
   ]
  },
  {
   "cell_type": "code",
   "execution_count": 23,
   "id": "33ed92b4-49be-475b-8598-65152b7965bd",
   "metadata": {},
   "outputs": [
    {
     "name": "stdout",
     "output_type": "stream",
     "text": [
      "Connected successfully!\n",
      "Table 'patients_details' created successfully!\n",
      "Tables: (('difficulty_ratings',), ('medical_assistant_data',), ('pain_symptoms',), ('patient_changes',), ('patient_details',), ('patients',), ('treatment_details',), ('treatments',))\n",
      "Table 'treatment' created successfully!\n",
      "Tables: (('difficulty_ratings',), ('medical_assistant_data',), ('pain_symptoms',), ('patient_changes',), ('patient_details',), ('patients',), ('treatment_details',), ('treatments',))\n",
      "Table 'difficulty' created successfully!\n",
      "Tables: (('difficulty_ratings',), ('medical_assistant_data',), ('pain_symptoms',), ('patient_changes',), ('patient_details',), ('patients',), ('treatment_details',), ('treatments',))\n",
      "Table 'patient_changes' created successfully!\n",
      "Tables: (('difficulty_ratings',), ('medical_assistant_data',), ('pain_symptoms',), ('patient_changes',), ('patient_details',), ('patients',), ('treatment_details',), ('treatments',))\n",
      "Table 'pain_symptoms' created successfully!\n",
      "Tables: (('difficulty_ratings',), ('medical_assistant_data',), ('pain_symptoms',), ('patient_changes',), ('patient_details',), ('patients',), ('treatment_details',), ('treatments',))\n",
      "Table 'medical_assistant_data' created successfully!\n",
      "Tables: (('difficulty_ratings',), ('medical_assistant_data',), ('pain_symptoms',), ('patient_changes',), ('patient_details',), ('patients',), ('treatment_details',), ('treatments',))\n"
     ]
    }
   ],
   "source": [
    "%run TableCreation.ipynb"
   ]
  },
  {
   "cell_type": "code",
   "execution_count": 26,
   "id": "442476d4-14f9-43b2-abed-85cf304108b0",
   "metadata": {
    "scrolled": true
   },
   "outputs": [
    {
     "name": "stdout",
     "output_type": "stream",
     "text": [
      "{'patient_name': '8aVi', 'dob': '13-#-95', 'date': '-5-Q4', 'injection': 'YES', 'exercise_therapy': 'N', 'difficulty_ratings': {'bending': '', 'putting_on_shoes': '', 'sleeping': '', 'standing_for_an_hour': '', 'going_up_or_down_a_flight_of_stairs': '', 'walking_through_a_store': '', 'driving_for_an_hour': '', 'preparing_a_meal': '', 'yard_work': '', 'picking_up_items_off_the_floor': ''}, 'patient_changes': {'since_last_treatment': '', 'since_start_of_treatment': '', 'last_3_days': ''}, 'pain_symptoms': {'pain': '', 'numbness': '', 'tingling': '', 'burning': '', 'tightness': ''}, 'medical_assistant_data': {'blood_pressure': '', 'hr': '', 'weight': '', 'height': '', 'spo2': '', 'temperature': '', 'blood_glucose': '', 'respirations': ''}, 'since_last_treatment': 'Good', 'since_start_of_treatment': 'bad', 'last_3_days': 'Wo { st', 'pain': '', 'numbness': '', 'tingling': '3', 'burning': '', 'tightness': '5', 'blood_pressure': '', 'hr': '', 'weight': '', 'height': '', 'program_number': '', 'treatment_number': '', 'placement': '', 'spo2': '', 'temperature': '', 'blood_glucose': '', 'respirations': '', 'Bending_or_stooping': '?', 'Putting_on_shoes': '(5', 'Sleeping': '?', 'Standing_for_an_hour': '(2=', 'Going_up_or_down_a_flight_of_stairs': '(', 'Walking_through_a_store': '?', 'Driving_for_an_hour': '?', 'Preparing_a_meal': '{4)', 'Yard_work': '2', 'Picking_up_itens_off_the_floor': '?'}\n"
     ]
    }
   ],
   "source": [
    "import cv2\n",
    "import numpy as np\n",
    "import easyocr\n",
    "import json\n",
    "\n",
    "# Load the image\n",
    "image_path = \"/Users/akhilch/Desktop/example3.png\"  # Your image path\n",
    "image = cv2.imread(image_path)\n",
    "gray = cv2.cvtColor(image, cv2.COLOR_BGR2GRAY)\n",
    "\n",
    "# Define bounding boxes (field_name: (x, y, width, height))\n",
    "bounding_boxes = {\n",
    "\n",
    "    \"patient_name\": (274, 273, 313, 52),\n",
    "    \"dob\": (799, 264, 258, 62),\n",
    "    \"date\": (160, 73, 231, 69),  \n",
    "    \"injection\": (229, 154, 125, 60),\n",
    "    \"exercise_therapy\": (1032, 147, 131, 67),\n",
    "\n",
    "    \"Bending_or_stooping\": (324, 400, 153, 59),\n",
    "    \"Putting_on_shoes\": (284, 462, 158, 60),\n",
    "    \"Sleeping\": (188, 525, 143, 49),\n",
    "\n",
    "\n",
    "\n",
    "    \"Standing_for_an_hour\":(332, 582, 141, 50),\n",
    "    \"Going_up_or_down_a_flight_of_stairs\":(485, 636, 143, 65),\n",
    "    \"Walking_through_a_store\":(370, 699, 150, 62),\n",
    "    \"Driving_for_an_hour\":( 305, 755, 156, 60),\n",
    "\n",
    "    \"Preparing_a_meal\":(287, 820, 149, 61),\n",
    "    \"Yard_work\":(202, 885, 149, 55),\n",
    "    \"Picking_up_itens_off_the_floor\": (429, 942, 147, 58),\n",
    "\n",
    "\n",
    "    \n",
    "\n",
    "    \"since_last_treatment\":(93, 1054, 316, 74),\n",
    "    \"since_start_of_treatment\":(104, 1172, 420, 74),\n",
    "    \"last_3_days\":(114, 1291, 394, 77),\n",
    "\n",
    "\n",
    "    \n",
    "    \"pain\":(146, 1415, 78, 50),\n",
    "    \"numbness\":(374, 1411, 78, 53),\n",
    "    \"tingling\":(569, 1412, 88, 54),\n",
    "    \"burning\":(783, 1415, 79, 54),\n",
    "    \"tightness\":(1007, 1408, 61, 59),\n",
    "\n",
    "\n",
    "    \n",
    "    \"blood_pressure\":(289, 1533, 101, 59),\n",
    "    \"hr\":(464, 1537, 77, 48),\n",
    "    \"weight\":(675, 1533, 110, 56),\n",
    "    \"height\":(893, 1532, 104, 57),\n",
    "    \"spo2\":(174, 1656, 73, 43),\n",
    "    \"temperature\":(439, 1657, 67, 41),\n",
    "    \"blood_glucose\":(719, 1655, 82, 47),\n",
    "    \"respirations\":(961, 1660, 73, 41),\n",
    "\n",
    "\n",
    "    \n",
    "    \"program_number\":(305, 1604, 68, 45),\n",
    "    \"treatment_number\":(631, 1601, 65, 44),\n",
    "    \"placement\":(854, 1600, 204, 36),\n",
    "\n",
    "\n",
    "}\n",
    "\n",
    "# Initialize OCR reader\n",
    "reader = easyocr.Reader(['en'])\n",
    "\n",
    "# Dictionary to store results\n",
    "output_data = {\n",
    "    \"patient_name\": \"\",\n",
    "    \"dob\": \"\",\n",
    "    \"date\": \"\",\n",
    "    \n",
    "    \"injection\": \"\",\n",
    "    \"exercise_therapy\": \"\",\n",
    "\n",
    "    \"difficulty_ratings\": {\n",
    "        \"bending\": \"\",\n",
    "        \"putting_on_shoes\": \"\",\n",
    "        \"sleeping\": \"\",\n",
    "        \"standing_for_an_hour\": \"\",\n",
    "        \"going_up_or_down_a_flight_of_stairs\": \"\",\n",
    "        \"walking_through_a_store\": \"\",\n",
    "        \"driving_for_an_hour\": \"\",\n",
    "        \"preparing_a_meal\": \"\",\n",
    "        \"yard_work\": \"\",\n",
    "        \"picking_up_items_off_the_floor\": \"\"\n",
    "    },\n",
    "\n",
    "    \"patient_changes\": {\n",
    "        \"since_last_treatment\": \"\",\n",
    "        \"since_start_of_treatment\": \"\",\n",
    "        \"last_3_days\": \"\"\n",
    "    },\n",
    "\n",
    "    \"pain_symptoms\": {\n",
    "        \"pain\": \"\",\n",
    "        \"numbness\": \"\",\n",
    "        \"tingling\": \"\",\n",
    "        \"burning\": \"\",\n",
    "        \"tightness\": \"\"\n",
    "    },\n",
    "\n",
    "    \"medical_assistant_data\": {\n",
    "        \"blood_pressure\": \"\",\n",
    "        \"hr\": \"\",\n",
    "        \"weight\": \"\",\n",
    "        \"height\": \"\",\n",
    "        \"spo2\": \"\",\n",
    "        \"temperature\": \"\",\n",
    "        \"blood_glucose\": \"\",\n",
    "        \"respirations\": \"\"\n",
    "    }\n",
    "}\n",
    "\n",
    "# Extract text for simple fields\n",
    "for field in [\"patient_name\", \"dob\", \"date\", \"since_last_treatment\", \n",
    "             \"since_start_of_treatment\", \"last_3_days\",\n",
    "              \n",
    "             \"pain\",\"numbness\",\"tingling\",\"burning\",\"tightness\",\"blood_pressure\",\"hr\",\"weight\",\"height\",\n",
    "             \"program_number\",\"treatment_number\",\"placement\",\"spo2\",\"temperature\",\"blood_glucose\",\"respirations\"]:\n",
    "    x, y, w, h = bounding_boxes[field]\n",
    "    roi = gray[y:y+h, x:x+w]\n",
    "    \n",
    "    # Run OCR on the extracted region\n",
    "    result = reader.readtext(roi, detail=0)\n",
    "    output_data[field] = result[0] if result else \"\"\n",
    "\n",
    "# Extract circled numbers\n",
    "for field in [\"injection\", \"exercise_therapy\", \"Bending_or_stooping\", \"Putting_on_shoes\", \"Sleeping\", \"Standing_for_an_hour\",\n",
    "             \"Going_up_or_down_a_flight_of_stairs\", \"Walking_through_a_store\", \"Driving_for_an_hour\", \"Preparing_a_meal\", \"Yard_work\", \n",
    "             \"Picking_up_itens_off_the_floor\"]:\n",
    "    x, y, w, h = bounding_boxes[field]\n",
    "    roi = gray[y:y+h, x:x+w]\n",
    "\n",
    "    # Apply Gaussian Blur to reduce noise\n",
    "    blurred = cv2.GaussianBlur(roi, (9, 9), 2)\n",
    "\n",
    "    # Detect circles inside the bounding box\n",
    "    circles = cv2.HoughCircles(blurred, cv2.HOUGH_GRADIENT, dp=1.2, minDist=20,\n",
    "                               param1=50, param2=30, minRadius=10, maxRadius=40)\n",
    "\n",
    "    if circles is not None:\n",
    "        circles = np.uint16(np.around(circles))  # Round values\n",
    "        for (cx, cy, r) in circles[0, :]:\n",
    "            # Adjust circle coordinates relative to full image\n",
    "            absolute_x = x + cx\n",
    "            absolute_y = y + cy\n",
    "\n",
    "            # Extract the region of interest (ROI) around the detected circle\n",
    "            circled_roi = gray[y+cy-r:y+cy+r, x+cx-r:x+cx+r]\n",
    "\n",
    "            # Run OCR on the cropped circle area\n",
    "            result = reader.readtext(circled_roi, detail=0)\n",
    "            text = result[0] if result else \"?\"\n",
    "\n",
    "            # Store the detected number\n",
    "            output_data[field] = text\n",
    "\n",
    "# Convert extracted data to JSON format\n",
    "json_output = json.dumps(output_data, indent=4)\n",
    "\n",
    "# Save JSON output to a file\n",
    "with open(\"output.json\", \"w\") as json_file:\n",
    "    json_file.write(json_output)\n",
    "\n",
    "json_output = json.loads(json_output)\n",
    "# Print JSON output\n",
    "print(json_output)\n",
    "\n"
   ]
  },
  {
   "cell_type": "code",
   "execution_count": 27,
   "id": "9fda408b-db47-4587-ba28-9c763bf4fa26",
   "metadata": {
    "scrolled": true
   },
   "outputs": [
    {
     "name": "stdout",
     "output_type": "stream",
     "text": [
      "{\n",
      "    \"patient_name\": \"8aVi\",\n",
      "    \"dob\": \"13-#-95\",\n",
      "    \"date\": \"-5-Q4\",\n",
      "    \"injection\": \"YES\",\n",
      "    \"exercise_therapy\": \"N\",\n",
      "    \"difficulty_ratings\": {\n",
      "        \"bending\": \"\",\n",
      "        \"putting_on_shoes\": \"\",\n",
      "        \"sleeping\": \"\",\n",
      "        \"standing_for_an_hour\": \"\",\n",
      "        \"going_up_or_down_a_flight_of_stairs\": \"\",\n",
      "        \"walking_through_a_store\": \"\",\n",
      "        \"driving_for_an_hour\": \"\",\n",
      "        \"preparing_a_meal\": \"\",\n",
      "        \"yard_work\": \"\",\n",
      "        \"picking_up_items_off_the_floor\": \"\"\n",
      "    },\n",
      "    \"patient_changes\": {\n",
      "        \"since_last_treatment\": \"\",\n",
      "        \"since_start_of_treatment\": \"\",\n",
      "        \"last_3_days\": \"\"\n",
      "    },\n",
      "    \"pain_symptoms\": {\n",
      "        \"pain\": \"\",\n",
      "        \"numbness\": \"\",\n",
      "        \"tingling\": \"\",\n",
      "        \"burning\": \"\",\n",
      "        \"tightness\": \"\"\n",
      "    },\n",
      "    \"medical_assistant_data\": {\n",
      "        \"blood_pressure\": \"\",\n",
      "        \"hr\": \"\",\n",
      "        \"weight\": \"\",\n",
      "        \"height\": \"\",\n",
      "        \"spo2\": \"\",\n",
      "        \"temperature\": \"\",\n",
      "        \"blood_glucose\": \"\",\n",
      "        \"respirations\": \"\"\n",
      "    },\n",
      "    \"since_last_treatment\": \"Good\",\n",
      "    \"since_start_of_treatment\": \"bad\",\n",
      "    \"last_3_days\": \"Wo { st\",\n",
      "    \"pain\": \"\",\n",
      "    \"numbness\": \"\",\n",
      "    \"tingling\": \"3\",\n",
      "    \"burning\": \"\",\n",
      "    \"tightness\": \"5\",\n",
      "    \"blood_pressure\": \"\",\n",
      "    \"hr\": \"\",\n",
      "    \"weight\": \"\",\n",
      "    \"height\": \"\",\n",
      "    \"program_number\": \"\",\n",
      "    \"treatment_number\": \"\",\n",
      "    \"placement\": \"\",\n",
      "    \"spo2\": \"\",\n",
      "    \"temperature\": \"\",\n",
      "    \"blood_glucose\": \"\",\n",
      "    \"respirations\": \"\",\n",
      "    \"Bending_or_stooping\": \"?\",\n",
      "    \"Putting_on_shoes\": \"(5\",\n",
      "    \"Sleeping\": \"?\",\n",
      "    \"Standing_for_an_hour\": \"(2=\",\n",
      "    \"Going_up_or_down_a_flight_of_stairs\": \"(\",\n",
      "    \"Walking_through_a_store\": \"?\",\n",
      "    \"Driving_for_an_hour\": \"?\",\n",
      "    \"Preparing_a_meal\": \"{4)\",\n",
      "    \"Yard_work\": \"2\",\n",
      "    \"Picking_up_itens_off_the_floor\": \"?\"\n",
      "}\n"
     ]
    }
   ],
   "source": [
    "\n",
    "\n",
    "# Properly formatted JSON output\n",
    "print(json.dumps(json_output, indent=4))\n"
   ]
  },
  {
   "cell_type": "code",
   "execution_count": 28,
   "id": "1e108e51-ca94-4368-874e-d5ec563c96af",
   "metadata": {},
   "outputs": [
    {
     "name": "stdout",
     "output_type": "stream",
     "text": [
      "✅ Data inserted successfully!\n"
     ]
    }
   ],
   "source": [
    "# Assuming json_output is a dictionary containing patient_name and dob\n",
    "query = \"\"\"INSERT INTO patient_details (patient_name, dob) \n",
    "           VALUES (%s, %s)\"\"\"\n",
    "\n",
    "data = (json_output[\"patient_name\"], json_output[\"dob\"])\n",
    "\n",
    "try:\n",
    "    with connection.cursor() as cursor:\n",
    "        cursor.execute(query, data)  # Safe execution\n",
    "        patient_id = cursor.lastrowid\n",
    "    connection.commit()  # Save changes\n",
    "    print(\"✅ Data inserted successfully!\")\n",
    "except pymysql.MySQLError as e:\n",
    "    print(f\"❌ Error inserting data: {e}\")"
   ]
  },
  {
   "cell_type": "markdown",
   "id": "5f98baee-0458-4a3e-91a2-27e3addc9f69",
   "metadata": {},
   "source": []
  },
  {
   "cell_type": "code",
   "execution_count": 29,
   "id": "c936b429-dc76-42ef-924f-e14ee37b96dc",
   "metadata": {},
   "outputs": [
    {
     "name": "stdout",
     "output_type": "stream",
     "text": [
      "✅ Data inserted successfully!\n",
      "(19, '-5-Q4', 'YES', 'N')\n"
     ]
    }
   ],
   "source": [
    "treatment_details = (patient_id,json_output[\"date\"],json_output[\"injection\"],json_output[\"exercise_therapy\"])\n",
    "treatment_query = \"\"\"INSERT INTO treatment_details (patient_id, date,injection,exercise_therapy) \n",
    "           VALUES (%s, %s, %s, %s)\"\"\"\n",
    "try:\n",
    "    with connection.cursor() as cursor:\n",
    "        cursor.execute(treatment_query, treatment_details)  # Safe execution\n",
    "    connection.commit()  # Save changes\n",
    "    print(\"✅ Data inserted successfully!\")\n",
    "except pymysql.MySQLError as e:\n",
    "    print(f\"❌ Error inserting data: {e}\")\n",
    "print(treatment_details)"
   ]
  },
  {
   "cell_type": "code",
   "execution_count": 30,
   "id": "b70c93c4-7b50-49be-a959-f9bf85c13ba9",
   "metadata": {},
   "outputs": [
    {
     "name": "stdout",
     "output_type": "stream",
     "text": [
      "(19, '-5-Q4', 'YES', 'N')\n"
     ]
    }
   ],
   "source": [
    "print(treatment_details)"
   ]
  },
  {
   "cell_type": "code",
   "execution_count": 31,
   "id": "8bd5dc0b-387f-4be1-af5f-587df2c96008",
   "metadata": {},
   "outputs": [
    {
     "name": "stdout",
     "output_type": "stream",
     "text": [
      "✅ Data inserted successfully!\n",
      "(19, '-5-Q4', 'YES', 'N')\n"
     ]
    }
   ],
   "source": [
    "\n",
    "\n",
    "difficulty_ratings = (patient_id ,json_output[\"date\"],json_output[\"Bending_or_stooping\"],json_output[\"Putting_on_shoes\"],json_output[\"Sleeping\"])\n",
    "\n",
    "\n",
    "difficulty_query = \"\"\"INSERT INTO difficulty_ratings (patient_id, date,bending_or_stooping,putting_on_shoes,sleeping) \n",
    "           VALUES (%s, %s, %s, %s, %s)\"\"\"\n",
    "try:\n",
    "    with connection.cursor() as cursor:\n",
    "        cursor.execute(difficulty_query,difficulty_ratings)  # Safe execution\n",
    "    connection.commit()  # Save changes\n",
    "    print(\"✅ Data inserted successfully!\")\n",
    "except pymysql.MySQLError as e:\n",
    "    print(f\"❌ Error inserting data: {e}\")\n",
    "print(treatment_details)"
   ]
  },
  {
   "cell_type": "code",
   "execution_count": 32,
   "id": "e721f4ef-ce7c-4991-9438-a7887c2d6d9e",
   "metadata": {},
   "outputs": [
    {
     "name": "stdout",
     "output_type": "stream",
     "text": [
      "(19, '-5-Q4', '?', '(5', '?')\n"
     ]
    }
   ],
   "source": [
    "print(difficulty_ratings)"
   ]
  },
  {
   "cell_type": "code",
   "execution_count": null,
   "id": "c1c9a66b-8339-4338-85ac-f6ec468e5fb3",
   "metadata": {},
   "outputs": [],
   "source": [
    "\n"
   ]
  },
  {
   "cell_type": "code",
   "execution_count": 33,
   "id": "7825485a-69f5-44af-a7d2-cf57b94b55a8",
   "metadata": {},
   "outputs": [
    {
     "name": "stdout",
     "output_type": "stream",
     "text": [
      "✅ Data inserted successfully!\n",
      "(19, '-5-Q4', 'YES', 'N')\n"
     ]
    }
   ],
   "source": [
    "\n",
    "\n",
    "patient_changes = (patient_id ,json_output[\"date\"],json_output[\"since_last_treatment\"],json_output[\"since_start_of_treatment\"],json_output[\"last_3_days\"])\n",
    "\n",
    "\n",
    "patient_query = \"\"\"INSERT INTO patient_changes(patient_id, date,since_last_treatment,since_start_of_treatment,last_3_days) \n",
    "           VALUES (%s, %s, %s, %s, %s)\"\"\"\n",
    "try:\n",
    "    with connection.cursor() as cursor:\n",
    "        cursor.execute(patient_query,patient_changes)  # Safe execution\n",
    "    connection.commit()  # Save changes\n",
    "    print(\"✅ Data inserted successfully!\")\n",
    "except pymysql.MySQLError as e:\n",
    "    print(f\"❌ Error inserting data: {e}\")\n",
    "print(treatment_details)"
   ]
  },
  {
   "cell_type": "code",
   "execution_count": null,
   "id": "8ced0d3a-c7ee-4a7d-be9c-b33135893415",
   "metadata": {},
   "outputs": [],
   "source": []
  },
  {
   "cell_type": "code",
   "execution_count": 34,
   "id": "8b18c2a6-fc50-490a-b04e-5a7c1c30731d",
   "metadata": {},
   "outputs": [
    {
     "name": "stdout",
     "output_type": "stream",
     "text": [
      "✅ Data inserted successfully!\n",
      "(19, '-5-Q4', 'YES', 'N')\n"
     ]
    }
   ],
   "source": [
    "\n",
    "\n",
    "pain_symptoms= (patient_id ,json_output[\"date\"],json_output[\"pain\"],json_output[\"numbness\"],json_output[\"tingling\"],json_output[\"burning\"],json_output[\"tightness\"])\n",
    "\n",
    "\n",
    "pain_query = \"\"\"INSERT INTO pain_symptoms(patient_id, date,pain,numbness,tingling,burning,tightness) \n",
    "           VALUES (%s, %s, %s, %s, %s, %s, %s)\"\"\"\n",
    "try:\n",
    "    with connection.cursor() as cursor:\n",
    "        cursor.execute(pain_query,pain_symptoms)  # Safe execution\n",
    "    connection.commit()  # Save changes\n",
    "    print(\"✅ Data inserted successfully!\")\n",
    "except pymysql.MySQLError as e:\n",
    "    print(f\"❌ Error inserting data: {e}\")\n",
    "print(treatment_details)"
   ]
  },
  {
   "cell_type": "code",
   "execution_count": null,
   "id": "771e2107-dc36-44eb-aa89-c823d0d2f09b",
   "metadata": {},
   "outputs": [],
   "source": []
  },
  {
   "cell_type": "code",
   "execution_count": 38,
   "id": "ca6bab56-8940-407e-8d0e-dbd9a507a5d7",
   "metadata": {},
   "outputs": [
    {
     "name": "stdout",
     "output_type": "stream",
     "text": [
      "✅ Data inserted successfully!\n",
      "(19, '-5-Q4', 'YES', 'N')\n"
     ]
    }
   ],
   "source": [
    "\n",
    "\n",
    "medical_assistant_data= (patient_id ,json_output[\"date\"],json_output[\"blood_pressure\"],json_output[\"hr\"],json_output[\"weight\"],json_output[\"height\"],json_output[\"spo2\"],json_output[\"temperature\"],\n",
    "                         json_output[\"blood_glucose\"],json_output[\"respirations\"])\n",
    "\n",
    "\n",
    "medical_query = \"\"\"INSERT INTO medical_assistant_data(patient_id, date,blood_pressure,hr,weight,height,spo2,temperature,blood_glucose,respirations) \n",
    "           VALUES (%s, %s, %s, %s, %s, %s, %s, %s, %s, %s)\"\"\"\n",
    "try:\n",
    "    with connection.cursor() as cursor:\n",
    "        cursor.execute(medical_query,medical_assistant_data)  # Safe execution\n",
    "    connection.commit()  # Save changes\n",
    "    print(\"✅ Data inserted successfully!\")\n",
    "except pymysql.MySQLError as e:\n",
    "    print(f\"❌ Error inserting data: {e}\")\n",
    "print(treatment_details)"
   ]
  },
  {
   "cell_type": "code",
   "execution_count": null,
   "id": "797acd8c-e649-4480-8429-fcbc422334f2",
   "metadata": {},
   "outputs": [],
   "source": [
    "},\n",
    "    \"since_last_treatment\": \"Good\",\n",
    "    \"since_start_of_treatment\": \"bad\",\n",
    "    \"last_3_days\": \"Wo { st\",\n",
    "    \"pain\": \"\",\n",
    "    \"numbness\": \"\",\n",
    "    \"tingling\": \"3\",\n",
    "    \"burning\": \"\",\n",
    "    \"tightness\": \"5\",\n",
    "    \"Blood_Pressure\": \"\",\n",
    "    \"HR\": \"\",\n",
    "    \"Weight\": \"\",\n",
    "    \"Height\": \"\",\n",
    "    \"Program_Number\": \"\",\n",
    "    \"Treatment_Number\": \"\",\n",
    "    \"Placement\": \"\",\n",
    "    \"SpO2\": \"\",\n",
    "    \"Temperature\": \"\",\n",
    "    \"Blood_Glucose\": \"\",\n",
    "    \"Respirations\": \"\",\n",
    "    \"Bending_or_stooping\": \"?\",\n",
    "    \"Putting_on_shoes\": \"(5\",\n",
    "    \"Sleeping\": \"?\",\n",
    "    \"Standing_for_an_hour\": \"(2=\",\n",
    "    \"Going_up_or_down_a_flight_of_stairs\": \"(\",\n",
    "    \"Walking_through_a_store\": \"?\",\n",
    "    \"Driving_for_an_hour\": \"?\",\n",
    "    \"Preparing_a_meal\": \"{4)\",\n",
    "    \"Yard_work\": \"2\",\n",
    "    \"Picking_up_itens_off_the_floor\": \"?\""
   ]
  },
  {
   "cell_type": "code",
   "execution_count": 21,
   "id": "162b53aa-fcf4-4f53-bd46-6a3c759ecae8",
   "metadata": {},
   "outputs": [
    {
     "ename": "KeyError",
     "evalue": "'patient_id'",
     "output_type": "error",
     "traceback": [
      "\u001b[0;31m---------------------------------------------------------------------------\u001b[0m",
      "\u001b[0;31mKeyError\u001b[0m                                  Traceback (most recent call last)",
      "Cell \u001b[0;32mIn[21], line 4\u001b[0m\n\u001b[1;32m      1\u001b[0m pain_query \u001b[38;5;241m=\u001b[39m \u001b[38;5;124m\"\"\"\u001b[39m\u001b[38;5;124mINSERT INTO pain_symptoms (patient_id, date, pain, numbness, tingling, burning, tightness) \u001b[39m\n\u001b[1;32m      2\u001b[0m \u001b[38;5;124m           VALUES (\u001b[39m\u001b[38;5;132;01m%s\u001b[39;00m\u001b[38;5;124m, \u001b[39m\u001b[38;5;132;01m%s\u001b[39;00m\u001b[38;5;124m, \u001b[39m\u001b[38;5;132;01m%s\u001b[39;00m\u001b[38;5;124m, \u001b[39m\u001b[38;5;132;01m%s\u001b[39;00m\u001b[38;5;124m, \u001b[39m\u001b[38;5;132;01m%s\u001b[39;00m\u001b[38;5;124m, \u001b[39m\u001b[38;5;132;01m%s\u001b[39;00m\u001b[38;5;124m, \u001b[39m\u001b[38;5;132;01m%s\u001b[39;00m\u001b[38;5;124m)\u001b[39m\u001b[38;5;124m\"\"\"\u001b[39m\n\u001b[0;32m----> 4\u001b[0m pain_symptoms \u001b[38;5;241m=\u001b[39m (\u001b[43mjson_output\u001b[49m\u001b[43m[\u001b[49m\u001b[38;5;124;43m\"\u001b[39;49m\u001b[38;5;124;43mpatient_id\u001b[39;49m\u001b[38;5;124;43m\"\u001b[39;49m\u001b[43m]\u001b[49m, json_output[\u001b[38;5;124m\"\u001b[39m\u001b[38;5;124mdate\u001b[39m\u001b[38;5;124m\"\u001b[39m], json_output[\u001b[38;5;124m\"\u001b[39m\u001b[38;5;124mpain\u001b[39m\u001b[38;5;124m\"\u001b[39m], \n\u001b[1;32m      5\u001b[0m                  json_output[\u001b[38;5;124m\"\u001b[39m\u001b[38;5;124mnumbness\u001b[39m\u001b[38;5;124m\"\u001b[39m], json_output[\u001b[38;5;124m\"\u001b[39m\u001b[38;5;124mtingling\u001b[39m\u001b[38;5;124m\"\u001b[39m], json_output[\u001b[38;5;124m\"\u001b[39m\u001b[38;5;124mburning\u001b[39m\u001b[38;5;124m\"\u001b[39m], json_output[\u001b[38;5;124m\"\u001b[39m\u001b[38;5;124mtightness\u001b[39m\u001b[38;5;124m\"\u001b[39m])\n\u001b[1;32m      7\u001b[0m \u001b[38;5;28;01mtry\u001b[39;00m:\n\u001b[1;32m      8\u001b[0m     \u001b[38;5;28;01mwith\u001b[39;00m connection\u001b[38;5;241m.\u001b[39mcursor() \u001b[38;5;28;01mas\u001b[39;00m cursor:\n",
      "\u001b[0;31mKeyError\u001b[0m: 'patient_id'"
     ]
    }
   ],
   "source": [
    "\n"
   ]
  },
  {
   "cell_type": "code",
   "execution_count": null,
   "id": "d2542850-0e48-448d-9ea8-f3631d2d8b40",
   "metadata": {},
   "outputs": [],
   "source": []
  }
 ],
 "metadata": {
  "kernelspec": {
   "display_name": "Python 3 (ipykernel)",
   "language": "python",
   "name": "python3"
  },
  "language_info": {
   "codemirror_mode": {
    "name": "ipython",
    "version": 3
   },
   "file_extension": ".py",
   "mimetype": "text/x-python",
   "name": "python",
   "nbconvert_exporter": "python",
   "pygments_lexer": "ipython3",
   "version": "3.9.6"
  }
 },
 "nbformat": 4,
 "nbformat_minor": 5
}
