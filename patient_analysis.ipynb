{
 "cells": [
  {
   "cell_type": "code",
   "execution_count": 1,
   "id": "8a146dda-35b9-4248-99a4-9fb0a900defa",
   "metadata": {},
   "outputs": [],
   "source": [
    "import pymysql  \n",
    "import nbimporter   \n",
    "import TableCreation "
   ]
  },
  {
   "cell_type": "code",
   "execution_count": 2,
   "id": "33ed92b4-49be-475b-8598-65152b7965bd",
   "metadata": {},
   "outputs": [
    {
     "name": "stdout",
     "output_type": "stream",
     "text": [
      "Connected successfully!\n",
      "Table 'patients_details' created successfully!\n",
      "Tables: (('difficulty_ratings',), ('medical_assistant_data',), ('pain_symptoms',), ('patient_changes',), ('patient_details',), ('patients',), ('treatment_details',), ('treatments',))\n",
      "Table 'treatment' created successfully!\n",
      "Tables: (('difficulty_ratings',), ('medical_assistant_data',), ('pain_symptoms',), ('patient_changes',), ('patient_details',), ('patients',), ('treatment_details',), ('treatments',))\n",
      "Table 'difficulty' created successfully!\n",
      "Tables: (('difficulty_ratings',), ('medical_assistant_data',), ('pain_symptoms',), ('patient_changes',), ('patient_details',), ('patients',), ('treatment_details',), ('treatments',))\n",
      "Table 'patient_changes' created successfully!\n",
      "Tables: (('difficulty_ratings',), ('medical_assistant_data',), ('pain_symptoms',), ('patient_changes',), ('patient_details',), ('patients',), ('treatment_details',), ('treatments',))\n",
      "Table 'pain_symptoms' created successfully!\n",
      "Tables: (('difficulty_ratings',), ('medical_assistant_data',), ('pain_symptoms',), ('patient_changes',), ('patient_details',), ('patients',), ('treatment_details',), ('treatments',))\n",
      "Table 'medical_assistant_data' created successfully!\n",
      "Tables: (('difficulty_ratings',), ('medical_assistant_data',), ('pain_symptoms',), ('patient_changes',), ('patient_details',), ('patients',), ('treatment_details',), ('treatments',))\n"
     ]
    }
   ],
   "source": [
    "%run TableCreation.ipynb"
   ]
  },
  {
   "cell_type": "code",
   "execution_count": 3,
   "id": "442476d4-14f9-43b2-abed-85cf304108b0",
   "metadata": {
    "scrolled": true
   },
   "outputs": [
    {
     "name": "stdout",
     "output_type": "stream",
     "text": [
      "{'patient_name': '8aVi', 'dob': '13-#-95', 'date': '-5-Q4', 'injection': 'YES', 'exercise_therapy': 'YES (NO', 'difficulty_ratings': {'bending_or_stooping': '0', 'Putting_on_shoes': '45', 'Sleeping': '2', 'Standing_for_an_hour': '2', 'Going_up_or_down_a_flight_of_stairs': '4', 'Walking_through_a_store': '?', 'Driving_for_an_hour': '0', 'Preparing_a_meal': '4', 'Yard_work': '1', 'Picking_up_items_off_the_floor': '16'}, 'patient_changes': {'since_last_treatment': 'Good', 'since_start_of_treatment': 'bad', 'last_3_days': 'Wo { st'}, 'pain_symptoms': {'pain': '?', 'numbness': '?', 'tingling': '4', 'burning': '?', 'tightness': '?'}, 'medical_assistant_data': {}, 'program_details': {}, 'blood_pressure': 'N/A', 'hr': 'N/A', 'weight': 'N/A', 'height': 'N/A', 'spo2': 'N/A', 'temperature': 'N/A', 'blood_glucose': 'N/A', 'respirations': 'N/A', 'program_number': 'N/A', 'treatment_number': 'N/A', 'placement': 'N/A'}\n"
     ]
    }
   ],
   "source": [
    "import cv2\n",
    "import numpy as np\n",
    "import easyocr\n",
    "import json\n",
    "import pytesseract\n",
    "\n",
    "\n",
    "# Load the image\n",
    "image_path = \"/Users/akhilch/Desktop/example3.png\"  # Replace with your image path\n",
    "image = cv2.imread(image_path)\n",
    "gray = cv2.cvtColor(image, cv2.COLOR_BGR2GRAY)\n",
    "\n",
    "# Define bounding boxes (field_name: (x, y, width, height))\n",
    "bounding_boxes = {\n",
    "    \"patient_name\": (274, 273, 313, 52),\n",
    "    \"dob\": (799, 264, 258, 62),\n",
    "    \"date\": (160, 73, 231, 69),\n",
    "    \"injection\": (229, 154, 125, 60),\n",
    "    \"exercise_therapy\": (1032, 147, 131, 67),\n",
    "\n",
    "    # Difficulty ratings\n",
    "    \"bending_or_stooping\": (324, 400, 153, 59),\n",
    "    \"Putting_on_shoes\": (284, 462, 158, 60),\n",
    "    \"Sleeping\": (188, 525, 143, 49),\n",
    "    \"Standing_for_an_hour\": (332, 582, 141, 50),\n",
    "    \"Going_up_or_down_a_flight_of_stairs\": (485, 636, 143, 65),\n",
    "    \"Walking_through_a_store\": (370, 699, 150, 62),\n",
    "    \"Driving_for_an_hour\": (305, 755, 156, 60),\n",
    "    \"Preparing_a_meal\": (287, 820, 149, 61),\n",
    "    \"Yard_work\": (202, 885, 149, 55),\n",
    "    \"Picking_up_items_off_the_floor\": (429, 942, 147, 58),\n",
    "\n",
    "    # Patient changes\n",
    "    \"since_last_treatment\": (93, 1054, 316, 74),\n",
    "    \"since_start_of_treatment\": (104, 1172, 420, 74),\n",
    "    \"last_3_days\": (114, 1291, 394, 77),\n",
    "\n",
    "    # Pain symptoms\n",
    "    \"pain\": (146, 1415, 78, 50),\n",
    "    \"numbness\": (374, 1411, 78, 53),\n",
    "    \"tingling\": (569, 1412, 88, 54),\n",
    "    \"burning\": (783, 1415, 79, 54),\n",
    "    \"tightness\": (1007, 1408, 61, 59),\n",
    "\n",
    "    # Medical assistant data\n",
    "    \"blood_pressure\": (289, 1533, 101, 59),\n",
    "    \"hr\": (464, 1537, 77, 48),\n",
    "    \"weight\": (675, 1533, 110, 56),\n",
    "    \"height\": (893, 1532, 104, 57),\n",
    "    \"spo2\": (174, 1656, 73, 43),\n",
    "    \"temperature\": (439, 1657, 67, 41),\n",
    "    \"blood_glucose\": (719, 1655, 82, 47),\n",
    "    \"respirations\": (961, 1660, 73, 41),\n",
    "\n",
    "    # Program details\n",
    "    \"program_number\": (305, 1604, 68, 45),\n",
    "    \"treatment_number\": (631, 1601, 65, 44),\n",
    "    \"placement\": (854, 1600, 204, 36),\n",
    "}\n",
    "\n",
    "# Initialize OCR reader\n",
    "reader = easyocr.Reader(['en'])\n",
    "\n",
    "# Dictionary to store results\n",
    "output_data = {\n",
    "    \"patient_name\": \"\",\n",
    "    \"dob\": \"\",\n",
    "    \"date\": \"\",\n",
    "    \"injection\": \"\",\n",
    "    \"exercise_therapy\": \"\",\n",
    "    \"difficulty_ratings\": {},\n",
    "    \"patient_changes\": {},\n",
    "    \"pain_symptoms\": {},\n",
    "    \"medical_assistant_data\": {},\n",
    "    \"program_details\": {}\n",
    "}\n",
    "\n",
    "# Extract text for standard fields\n",
    "standard_fields = [\n",
    "    \"patient_name\", \"dob\", \"date\", \"since_last_treatment\",\n",
    "    \"since_start_of_treatment\", \"last_3_days\", \"injection\", \"exercise_therapy\",\n",
    "    \"blood_pressure\", \"hr\", \"weight\", \"height\", \"spo2\", \"temperature\",\n",
    "    \"blood_glucose\", \"respirations\", \"program_number\", \"treatment_number\", \"placement\"\n",
    "]\n",
    "\n",
    "for field in standard_fields:\n",
    "    x, y, w, h = bounding_boxes[field]\n",
    "    roi = gray[y:y+h, x:x+w]\n",
    "    \n",
    "    # Run OCR on the extracted region\n",
    "    result = reader.readtext(roi, detail=0)\n",
    "    \n",
    "    if result:\n",
    "        # Assign to correct nested dictionary if applicable\n",
    "        if field in [\"since_last_treatment\", \"since_start_of_treatment\", \"last_3_days\"]:\n",
    "            output_data[\"patient_changes\"][field] = result[0]\n",
    "        elif field in [\"blood_pressure\", \"hr\", \"weight\", \"height\", \"spo2\", \"temperature\", \"blood_glucose\", \"respirations\"]:\n",
    "            output_data[\"medical_assistant_data\"][field] = result[0]\n",
    "        elif field in [\"program_number\", \"treatment_number\", \"placement\"]:\n",
    "            output_data[\"program_details\"][field] = result[0]\n",
    "        else:\n",
    "            output_data[field] = result[0]\n",
    "    else:\n",
    "        output_data[field] = \"N/A\"\n",
    "\n",
    "# Extract circled numbers for difficulty ratings & pain symptoms\n",
    "circled_fields = {\n",
    "    \"difficulty_ratings\": [\"bending_or_stooping\", \"Putting_on_shoes\", \"Sleeping\",\n",
    "        \"Standing_for_an_hour\", \"Going_up_or_down_a_flight_of_stairs\",\n",
    "        \"Walking_through_a_store\", \"Driving_for_an_hour\",\n",
    "        \"Preparing_a_meal\", \"Yard_work\", \"Picking_up_items_off_the_floor\"\n",
    "    ],\n",
    "    \"pain_symptoms\": [\n",
    "        \"pain\", \"numbness\", \"tingling\", \"burning\", \"tightness\"\n",
    "    ]\n",
    "}\n",
    "\n",
    "for category, fields in circled_fields.items():\n",
    "    for field in fields:\n",
    "        x, y, w, h = bounding_boxes[field]\n",
    "        roi = gray[y:y+h, x:x+w]\n",
    "\n",
    "        # Apply thresholding to enhance visibility\n",
    "        _, binary = cv2.threshold(roi, 150, 255, cv2.THRESH_BINARY_INV)\n",
    "\n",
    "        # Find contours\n",
    "        contours, _ = cv2.findContours(binary, cv2.RETR_EXTERNAL, cv2.CHAIN_APPROX_SIMPLE)\n",
    "\n",
    "        detected_number = \"?\"  # Default value if no number is found\n",
    "\n",
    "        for contour in contours:\n",
    "            # Get the minimum enclosing circle\n",
    "            (cx, cy), radius = cv2.minEnclosingCircle(contour)\n",
    "            cx, cy, radius = int(cx), int(cy), int(radius)\n",
    "\n",
    "            # Filter small or large circles\n",
    "            if 14 < radius < 25:\n",
    "                x1, y1 = max(0, cx - radius), max(0, cy - radius)\n",
    "                x2, y2 = min(w, cx + radius), min(h, cy + radius)\n",
    "\n",
    "                circled_roi = roi[y1:y2, x1:x2]\n",
    "\n",
    "                if circled_roi.shape[0] > 5 and circled_roi.shape[1] > 5:\n",
    "                    _, thresholded = cv2.threshold(circled_roi, 150, 255, cv2.THRESH_BINARY_INV)\n",
    "\n",
    "                    # Run OCR to extract number\n",
    "                    text = pytesseract.image_to_string(thresholded, config=\"--psm 10 -c tessedit_char_whitelist=0123456789\")\n",
    "                    detected_number = text.strip() if text.strip().isdigit() else \"?\"\n",
    "\n",
    "                    cv2.circle(image, (x+cx, y+cy), radius, (0, 255, 0), 2)\n",
    "                    cv2.putText(image, detected_number, (x+cx-10, y+cy-10), cv2.FONT_HERSHEY_SIMPLEX, 1, (0, 255, 0), 2)\n",
    "\n",
    "        output_data[category][field] = detected_number\n",
    "\n",
    "# Save output as JSON\n",
    "with open(\"output.json\", \"w\") as json_file:\n",
    "    json.dump(output_data, json_file, indent=4)\n",
    "\n",
    "##print(json.dumps(output_data, indent=4))\n",
    "\n",
    "# Convert extracted data to JSON format\n",
    "json_output = json.dumps(output_data, indent=4)\n",
    "\n",
    "# Save JSON output to a file\n",
    "with open(\"output.json\", \"w\") as json_file:\n",
    "    json_file.write(json_output)\n",
    "\n",
    "json_output = json.loads(json_output)\n",
    "# Print JSON output\n",
    "print(json_output)"
   ]
  },
  {
   "cell_type": "code",
   "execution_count": 4,
   "id": "9fda408b-db47-4587-ba28-9c763bf4fa26",
   "metadata": {
    "scrolled": true
   },
   "outputs": [
    {
     "name": "stdout",
     "output_type": "stream",
     "text": [
      "{\n",
      "    \"patient_name\": \"8aVi\",\n",
      "    \"dob\": \"13-#-95\",\n",
      "    \"date\": \"-5-Q4\",\n",
      "    \"injection\": \"YES\",\n",
      "    \"exercise_therapy\": \"YES (NO\",\n",
      "    \"difficulty_ratings\": {\n",
      "        \"bending_or_stooping\": \"0\",\n",
      "        \"Putting_on_shoes\": \"45\",\n",
      "        \"Sleeping\": \"2\",\n",
      "        \"Standing_for_an_hour\": \"2\",\n",
      "        \"Going_up_or_down_a_flight_of_stairs\": \"4\",\n",
      "        \"Walking_through_a_store\": \"?\",\n",
      "        \"Driving_for_an_hour\": \"0\",\n",
      "        \"Preparing_a_meal\": \"4\",\n",
      "        \"Yard_work\": \"1\",\n",
      "        \"Picking_up_items_off_the_floor\": \"16\"\n",
      "    },\n",
      "    \"patient_changes\": {\n",
      "        \"since_last_treatment\": \"Good\",\n",
      "        \"since_start_of_treatment\": \"bad\",\n",
      "        \"last_3_days\": \"Wo { st\"\n",
      "    },\n",
      "    \"pain_symptoms\": {\n",
      "        \"pain\": \"?\",\n",
      "        \"numbness\": \"?\",\n",
      "        \"tingling\": \"4\",\n",
      "        \"burning\": \"?\",\n",
      "        \"tightness\": \"?\"\n",
      "    },\n",
      "    \"medical_assistant_data\": {},\n",
      "    \"program_details\": {},\n",
      "    \"blood_pressure\": \"N/A\",\n",
      "    \"hr\": \"N/A\",\n",
      "    \"weight\": \"N/A\",\n",
      "    \"height\": \"N/A\",\n",
      "    \"spo2\": \"N/A\",\n",
      "    \"temperature\": \"N/A\",\n",
      "    \"blood_glucose\": \"N/A\",\n",
      "    \"respirations\": \"N/A\",\n",
      "    \"program_number\": \"N/A\",\n",
      "    \"treatment_number\": \"N/A\",\n",
      "    \"placement\": \"N/A\"\n",
      "}\n"
     ]
    }
   ],
   "source": [
    "\n",
    "\n",
    "# Properly formatted JSON output\n",
    "print(json.dumps(output_data, indent=4))\n"
   ]
  },
  {
   "cell_type": "code",
   "execution_count": 5,
   "id": "1e108e51-ca94-4368-874e-d5ec563c96af",
   "metadata": {},
   "outputs": [
    {
     "name": "stdout",
     "output_type": "stream",
     "text": [
      "✅ Data inserted successfully!\n"
     ]
    }
   ],
   "source": [
    "# Assuming json_output is a dictionary containing patient_name and dob\n",
    "query = \"\"\"INSERT INTO patient_details (patient_name, dob) \n",
    "           VALUES (%s, %s)\"\"\"\n",
    "\n",
    "data = (json_output[\"patient_name\"], json_output[\"dob\"])\n",
    "\n",
    "try:\n",
    "    with connection.cursor() as cursor:\n",
    "        cursor.execute(query, data)  # Safe execution\n",
    "        patient_id = cursor.lastrowid\n",
    "    connection.commit()  # Save changes\n",
    "    print(\"✅ Data inserted successfully!\")\n",
    "except pymysql.MySQLError as e:\n",
    "    print(f\"❌ Error inserting data: {e}\")"
   ]
  },
  {
   "cell_type": "markdown",
   "id": "5f98baee-0458-4a3e-91a2-27e3addc9f69",
   "metadata": {},
   "source": []
  },
  {
   "cell_type": "code",
   "execution_count": 6,
   "id": "c936b429-dc76-42ef-924f-e14ee37b96dc",
   "metadata": {},
   "outputs": [
    {
     "name": "stdout",
     "output_type": "stream",
     "text": [
      "✅ Data inserted successfully!\n",
      "(22, '-5-Q4', 'YES', 'YES (NO')\n"
     ]
    }
   ],
   "source": [
    "treatment_details = (patient_id,json_output[\"date\"],json_output[\"injection\"],json_output[\"exercise_therapy\"])\n",
    "treatment_query = \"\"\"INSERT INTO treatment_details (patient_id, date,injection,exercise_therapy) \n",
    "           VALUES (%s, %s, %s, %s)\"\"\"\n",
    "try:\n",
    "    with connection.cursor() as cursor:\n",
    "        cursor.execute(treatment_query, treatment_details)  # Safe execution\n",
    "    connection.commit()  # Save changes\n",
    "    print(\"✅ Data inserted successfully!\")\n",
    "except pymysql.MySQLError as e:\n",
    "    print(f\"❌ Error inserting data: {e}\")\n",
    "print(treatment_details)"
   ]
  },
  {
   "cell_type": "code",
   "execution_count": 7,
   "id": "b70c93c4-7b50-49be-a959-f9bf85c13ba9",
   "metadata": {},
   "outputs": [
    {
     "name": "stdout",
     "output_type": "stream",
     "text": [
      "(22, '-5-Q4', 'YES', 'YES (NO')\n"
     ]
    }
   ],
   "source": [
    "print(treatment_details)"
   ]
  },
  {
   "cell_type": "code",
   "execution_count": 12,
   "id": "8bd5dc0b-387f-4be1-af5f-587df2c96008",
   "metadata": {},
   "outputs": [
    {
     "name": "stdout",
     "output_type": "stream",
     "text": [
      "✅ Data inserted successfully!\n",
      "(22, '-5-Q4', 'YES', 'YES (NO')\n"
     ]
    }
   ],
   "source": [
    "\n",
    "\n",
    "difficulty_ratings = (patient_id ,json_output[\"date\"],json_output[\"difficulty_ratings\"][\"bending_or_stooping\"],json_output[\"difficulty_ratings\"][\"Putting_on_shoes\"],json_output[\"difficulty_ratings\"][\"Sleeping\"])\n",
    "\n",
    "\n",
    "difficulty_query = \"\"\"INSERT INTO difficulty_ratings (patient_id,date,bending_or_stooping,putting_on_shoes,sleeping) \n",
    "           VALUES (%s, %s, %s, %s, %s)\"\"\"\n",
    "try:\n",
    "    with connection.cursor() as cursor:\n",
    "        cursor.execute(difficulty_query,difficulty_ratings)  # Safe execution\n",
    "    connection.commit()  # Save changes\n",
    "    print(\"✅ Data inserted successfully!\")\n",
    "except pymysql.MySQLError as e:\n",
    "    print(f\"❌ Error inserting data: {e}\")\n",
    "print(treatment_details)"
   ]
  },
  {
   "cell_type": "code",
   "execution_count": 13,
   "id": "e721f4ef-ce7c-4991-9438-a7887c2d6d9e",
   "metadata": {},
   "outputs": [
    {
     "name": "stdout",
     "output_type": "stream",
     "text": [
      "(22, '-5-Q4', '0', '45', '2')\n"
     ]
    }
   ],
   "source": [
    "print(difficulty_ratings)"
   ]
  },
  {
   "cell_type": "code",
   "execution_count": null,
   "id": "c1c9a66b-8339-4338-85ac-f6ec468e5fb3",
   "metadata": {},
   "outputs": [],
   "source": [
    "\n"
   ]
  },
  {
   "cell_type": "code",
   "execution_count": 15,
   "id": "7825485a-69f5-44af-a7d2-cf57b94b55a8",
   "metadata": {},
   "outputs": [
    {
     "name": "stdout",
     "output_type": "stream",
     "text": [
      "✅ Data inserted successfully!\n",
      "(22, '-5-Q4', 'YES', 'YES (NO')\n"
     ]
    }
   ],
   "source": [
    "\n",
    "\n",
    "patient_changes = (patient_id ,json_output[\"date\"],json_output[\"patient_changes\"][\"since_last_treatment\"],json_output[\"patient_changes\"][\"since_start_of_treatment\"],json_output[\"patient_changes\"][\"last_3_days\"])\n",
    "\n",
    "\n",
    "patient_query = \"\"\"INSERT INTO patient_changes(patient_id, date,since_last_treatment,since_start_of_treatment,last_3_days) \n",
    "           VALUES (%s, %s, %s, %s, %s)\"\"\"\n",
    "try:\n",
    "    with connection.cursor() as cursor:\n",
    "        cursor.execute(patient_query,patient_changes)  # Safe execution\n",
    "    connection.commit()  # Save changes\n",
    "    print(\"✅ Data inserted successfully!\")\n",
    "except pymysql.MySQLError as e:\n",
    "    print(f\"❌ Error inserting data: {e}\")\n",
    "print(treatment_details)"
   ]
  },
  {
   "cell_type": "code",
   "execution_count": null,
   "id": "8ced0d3a-c7ee-4a7d-be9c-b33135893415",
   "metadata": {},
   "outputs": [],
   "source": []
  },
  {
   "cell_type": "code",
   "execution_count": 17,
   "id": "8b18c2a6-fc50-490a-b04e-5a7c1c30731d",
   "metadata": {},
   "outputs": [
    {
     "name": "stdout",
     "output_type": "stream",
     "text": [
      "✅ Data inserted successfully!\n",
      "(22, '-5-Q4', 'YES', 'YES (NO')\n"
     ]
    }
   ],
   "source": [
    "\n",
    "\n",
    "pain_symptoms= (patient_id ,json_output[\"date\"],json_output[\"pain_symptoms\"][\"pain\"],json_output[\"pain_symptoms\"][\"numbness\"],json_output[\"pain_symptoms\"][\"tingling\"],\n",
    "                json_output[\"pain_symptoms\"][\"burning\"],json_output[\"pain_symptoms\"][\"tightness\"])\n",
    "\n",
    "\n",
    "pain_query = \"\"\"INSERT INTO pain_symptoms(patient_id, date,pain,numbness,tingling,burning,tightness) \n",
    "           VALUES (%s, %s, %s, %s, %s, %s, %s)\"\"\"\n",
    "try:\n",
    "    with connection.cursor() as cursor:\n",
    "        cursor.execute(pain_query,pain_symptoms)  # Safe execution\n",
    "    connection.commit()  # Save changes\n",
    "    print(\"✅ Data inserted successfully!\")\n",
    "except pymysql.MySQLError as e:\n",
    "    print(f\"❌ Error inserting data: {e}\")\n",
    "print(treatment_details)"
   ]
  },
  {
   "cell_type": "code",
   "execution_count": null,
   "id": "771e2107-dc36-44eb-aa89-c823d0d2f09b",
   "metadata": {},
   "outputs": [],
   "source": []
  },
  {
   "cell_type": "code",
   "execution_count": 18,
   "id": "ca6bab56-8940-407e-8d0e-dbd9a507a5d7",
   "metadata": {},
   "outputs": [
    {
     "name": "stdout",
     "output_type": "stream",
     "text": [
      "✅ Data inserted successfully!\n",
      "(22, '-5-Q4', 'YES', 'YES (NO')\n"
     ]
    }
   ],
   "source": [
    "\n",
    "\n",
    "medical_assistant_data= (patient_id ,json_output[\"date\"],json_output[\"blood_pressure\"],json_output[\"hr\"],json_output[\"weight\"],json_output[\"height\"],json_output[\"spo2\"],json_output[\"temperature\"],\n",
    "                         json_output[\"blood_glucose\"],json_output[\"respirations\"])\n",
    "\n",
    "\n",
    "medical_query = \"\"\"INSERT INTO medical_assistant_data(patient_id, date,blood_pressure,hr,weight,height,spo2,temperature,blood_glucose,respirations) \n",
    "           VALUES (%s, %s, %s, %s, %s, %s, %s, %s, %s, %s)\"\"\"\n",
    "try:\n",
    "    with connection.cursor() as cursor:\n",
    "        cursor.execute(medical_query,medical_assistant_data)  # Safe execution\n",
    "    connection.commit()  # Save changes\n",
    "    print(\"✅ Data inserted successfully!\")\n",
    "except pymysql.MySQLError as e:\n",
    "    print(f\"❌ Error inserting data: {e}\")\n",
    "print(treatment_details)"
   ]
  },
  {
   "cell_type": "code",
   "execution_count": null,
   "id": "d2542850-0e48-448d-9ea8-f3631d2d8b40",
   "metadata": {},
   "outputs": [],
   "source": []
  }
 ],
 "metadata": {
  "kernelspec": {
   "display_name": "Python 3 (ipykernel)",
   "language": "python",
   "name": "python3"
  },
  "language_info": {
   "codemirror_mode": {
    "name": "ipython",
    "version": 3
   },
   "file_extension": ".py",
   "mimetype": "text/x-python",
   "name": "python",
   "nbconvert_exporter": "python",
   "pygments_lexer": "ipython3",
   "version": "3.9.6"
  }
 },
 "nbformat": 4,
 "nbformat_minor": 5
}
