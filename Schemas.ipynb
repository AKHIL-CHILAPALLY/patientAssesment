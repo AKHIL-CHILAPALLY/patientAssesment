{
 "cells": [
  {
   "cell_type": "markdown",
   "id": "af63e3db-01c7-46cb-bac2-eb3132b28f93",
   "metadata": {},
   "source": []
  },
  {
   "cell_type": "code",
   "execution_count": 22,
   "id": "17e0b978-adf8-4432-a19e-d92647d95952",
   "metadata": {},
   "outputs": [],
   "source": [
    "patient_details = \"\"\"CREATE TABLE IF NOT EXISTS patient_details (\n",
    "    patient_id INT PRIMARY KEY AUTO_INCREMENT,\n",
    "    patient_name VARCHAR(100) NOT NULL,\n",
    "    dob VARCHAR(100) NOT NULL\n",
    ");\"\"\""
   ]
  },
  {
   "cell_type": "code",
   "execution_count": 23,
   "id": "7a1e0e65-dd29-4efc-9c34-fb5b4d62f2b5",
   "metadata": {},
   "outputs": [],
   "source": [
    "treatment_details = \"\"\"CREATE TABLE IF NOT EXISTS treatment_details (\n",
    "    treatment_id INT PRIMARY KEY AUTO_INCREMENT,\n",
    "    patient_id INT NOT NULL,\n",
    "    date VARCHAR(100) NOT NULL,\n",
    "    injection VARCHAR(100) NOT NULL,\n",
    "    exercise_therapy VARCHAR(100) NOT NULL,\n",
    "    FOREIGN KEY (patient_id) REFERENCES patient_details(patient_id)\n",
    ");\"\"\"\n",
    "\n",
    "\n",
    "\n"
   ]
  },
  {
   "cell_type": "code",
   "execution_count": 24,
   "id": "f89b8cf5-f330-4b7b-9023-f7a2f4b46973",
   "metadata": {},
   "outputs": [],
   "source": [
    "\n",
    "difficulty_ratings = \"\"\"CREATE TABLE IF NOT EXISTS difficulty_ratings (\n",
    "    rating_id INT PRIMARY KEY AUTO_INCREMENT,\n",
    "    patient_id INT NOT NULL,\n",
    "    date VARCHAR(100) NOT NULL,\n",
    "    bending_or_stooping VARCHAR(100),\n",
    "    putting_on_shoes VARCHAR(100),\n",
    "    sleeping VARCHAR(100),\n",
    "    FOREIGN KEY (patient_id) REFERENCES patient_details(patient_id)\n",
    ");\"\"\"\n"
   ]
  },
  {
   "cell_type": "code",
   "execution_count": 25,
   "id": "2af442cf-bc5f-4db1-b3fe-b585b4eaf7ae",
   "metadata": {},
   "outputs": [],
   "source": [
    "patient_changes = \"\"\"CREATE TABLE IF NOT EXISTS patient_changes (\n",
    "    change_id INT PRIMARY KEY AUTO_INCREMENT,\n",
    "    patient_id INT NOT NULL,\n",
    "    date VARCHAR(100) NOT NULL,\n",
    "    since_last_treatment VARCHAR(100),\n",
    "    since_start_of_treatment VARCHAR(100),\n",
    "    last_3_days VARCHAR(100),\n",
    "    FOREIGN KEY (patient_id) REFERENCES patient_details(patient_id)\n",
    ");\"\"\"\n"
   ]
  },
  {
   "cell_type": "code",
   "execution_count": 2,
   "id": "e069b1a1-7727-4818-a570-8266e5df06b8",
   "metadata": {},
   "outputs": [],
   "source": [
    "pain_symptoms = \"\"\"CREATE TABLE IF NOT EXISTS pain_symptoms (\n",
    "    symptom_id INT PRIMARY KEY AUTO_INCREMENT,\n",
    "    patient_id INT NOT NULL,\n",
    "    date VARCHAR(100) NOT NULL,\n",
    "    pain VARCHAR(100),\n",
    "    numbness VARCHAR(100),\n",
    "    tingling VARCHAR(100),\n",
    "    burning VARCHAR(100),\n",
    "    tightness VARCHAR(100),\n",
    "    FOREIGN KEY (patient_id) REFERENCES patient_details(patient_id)\n",
    ");\"\"\"\n"
   ]
  },
  {
   "cell_type": "code",
   "execution_count": 3,
   "id": "ba32308a-4449-4903-8f38-b7a08457d929",
   "metadata": {},
   "outputs": [],
   "source": [
    "medical_assistant_data = \"\"\"CREATE TABLE IF NOT EXISTS medical_assistant_data (\n",
    "    record_id INT PRIMARY KEY AUTO_INCREMENT,\n",
    "    patient_id INT NOT NULL,\n",
    "    date VARCHAR(100) NOT NULL,\n",
    "    blood_pressure VARCHAR(10),\n",
    "    hr VARCHAR(100), \n",
    "    weight VARCHAR(100),\n",
    "    height VARCHAR(10),\n",
    "    spo2 VARCHAR(100),\n",
    "    temperature VARCHAR(100),\n",
    "    blood_glucose VARCHAR(100),\n",
    "    respirations VARCHAR(100),\n",
    "    FOREIGN KEY (patient_id) REFERENCES patient_details(patient_id)\n",
    ");\"\"\"\n"
   ]
  },
  {
   "cell_type": "code",
   "execution_count": null,
   "id": "72dc420c-300d-4ef9-8ce4-e6e49c788f6c",
   "metadata": {},
   "outputs": [],
   "source": []
  },
  {
   "cell_type": "code",
   "execution_count": null,
   "id": "2140638b-fcb0-4403-b5f5-f82f965827dd",
   "metadata": {},
   "outputs": [],
   "source": []
  }
 ],
 "metadata": {
  "kernelspec": {
   "display_name": "Python 3 (ipykernel)",
   "language": "python",
   "name": "python3"
  },
  "language_info": {
   "codemirror_mode": {
    "name": "ipython",
    "version": 3
   },
   "file_extension": ".py",
   "mimetype": "text/x-python",
   "name": "python",
   "nbconvert_exporter": "python",
   "pygments_lexer": "ipython3",
   "version": "3.9.6"
  }
 },
 "nbformat": 4,
 "nbformat_minor": 5
}
